{
 "cells": [
  {
   "cell_type": "code",
   "execution_count": null,
   "id": "5e82e535",
   "metadata": {},
   "outputs": [],
   "source": [
    "1)TF2.0 Demo"
   ]
  },
  {
   "cell_type": "code",
   "execution_count": null,
   "id": "f13d2dc2",
   "metadata": {},
   "outputs": [],
   "source": [
    "import numpy as np\n",
    "import matplotlib.pyplot as plt\n",
    "x = np.linspace(0, 10*np.pi, 1000)\n",
    "y = np.sin(x)\n",
    "plt.plot(x,y)\n"
   ]
  },
  {
   "cell_type": "code",
   "execution_count": null,
   "id": "dc35b875",
   "metadata": {},
   "outputs": [],
   "source": [
    "import sklearn\n",
    "print(sklearn.__version__)\n",
    "import numpy\n",
    "print(numpy.__version__)\n",
    "import scipy\n",
    "print(scipy.__version__)\n",
    "import matplotlib\n",
    "print(matplotlib.__version__)\n",
    "import pandas\n",
    "print(pandas.__version__)\n",
    "import torch\n",
    "print(torch.__version__)\n",
    "import seaborn\n",
    "print(seaborn.__version__)\n",
    "import wordcloud\n",
    "print(wordcloud.__version__)\n",
    "import bs4\n",
    "print(bs4.__version__)\n",
    "import requests\n",
    "print(requests.__version__)\n",
    "import theano\n",
    "print(theano.__version__)\n",
    "import networkx\n",
    "print(networkx.__version__)\n",
    "import cv2\n",
    "print(cv2.__version__)\n",
    "import gym\n",
    "print(gym.__version__)\n"
   ]
  },
  {
   "cell_type": "code",
   "execution_count": null,
   "id": "49b5502e",
   "metadata": {},
   "outputs": [],
   "source": [
    "!ls\n",
    "!ls sample_data\n",
    "import json\n",
    "json.loads(open('sample_data/anscombe.json').read())"
   ]
  },
  {
   "cell_type": "code",
   "execution_count": null,
   "id": "ef3e5d0e",
   "metadata": {},
   "outputs": [],
   "source": [
    "2)TF2.0 Installing Tensorflow"
   ]
  },
  {
   "cell_type": "code",
   "execution_count": null,
   "id": "3fb8fb04",
   "metadata": {},
   "outputs": [],
   "source": [
    "UPDATE 2020 \n",
    "new feature of colab - you can just use this\n",
    "try:\n",
    "  %tensorflow_version 2.x  # Colab only.\n",
    "except Exception:\n",
    "  pass\n",
    "\n",
    "import tensorflow as tf\n",
    "print(tf.__version__)\n",
    "\n",
    "!ls\n",
    "\n",
    "!ls sample_data"
   ]
  },
  {
   "cell_type": "code",
   "execution_count": null,
   "id": "4b4cd756",
   "metadata": {},
   "outputs": [],
   "source": [
    "3)TF2.0 Loading Data"
   ]
  },
  {
   "cell_type": "code",
   "execution_count": null,
   "id": "bbb30310",
   "metadata": {},
   "outputs": [],
   "source": [
    "# download the data from a URL\n",
    "# source: https://archive.ics.uci.edu/ml/datasets/Arrhythmia\n",
    "# alternate URL: https://lazyprogrammer.me/course_files/arrhythmia.data\n",
    "#!wget --no-check-certificate https://archive.ics.uci.edu/ml/machine-learning-databases/arrhythmia/arrhythmia.data\n",
    "!wget https://lazyprogrammer.me/course_files/arrhythmia.data"
   ]
  },
  {
   "cell_type": "code",
   "execution_count": null,
   "id": "7a2b2a15",
   "metadata": {},
   "outputs": [],
   "source": [
    "list files in current directory\n",
    "!ls\n",
    "check if the data has a header\n",
    "!head arrhythmia.data\n"
   ]
  },
  {
   "cell_type": "code",
   "execution_count": null,
   "id": "cbaec0f4",
   "metadata": {},
   "outputs": [],
   "source": [
    "check the data\n",
    "import pandas as pd\n",
    "df = pd.read_csv('arrhythmia.data', header=None)\n",
    "since the data has many columns, take just the first few and name them (as per the documentation)\n",
    "data = df[[0,1,2,3,4,5]]\n",
    "data.columns = ['age', 'sex', 'height', 'weight', 'QRS duration', 'P-R interval']\n",
    "import matplotlib.pyplot as plt\n",
    "plt.rcParams['figure.figsize'] = [15, 15] make the plot bigger so the subplots don't overlap\n",
    "data.hist(); use a semicolon to supress return value"
   ]
  },
  {
   "cell_type": "code",
   "execution_count": null,
   "id": "160d9580",
   "metadata": {},
   "outputs": [],
   "source": [
    "from pandas.plotting import scatter_matrix\n",
    "scatter_matrix(data);\n"
   ]
  },
  {
   "cell_type": "code",
   "execution_count": null,
   "id": "689c1c16",
   "metadata": {},
   "outputs": [],
   "source": [
    "art 2: Using tf.keras\n",
    "# use keras get_file to download the auto MPG dataset\n",
    "# source: https://archive.ics.uci.edu/ml/datasets/Auto+MPG\n",
    "#url = 'https://archive.ics.uci.edu/ml/machine-learning-databases/auto-mpg/auto-mpg.data'\n",
    "\n",
    "### alternate URL\n",
    "url = 'https://raw.githubusercontent.com/lazyprogrammer/machine_learning_examples/master/tf2.0/auto-mpg.data'\n",
    "# Install TensorFlow\n",
    "\n",
    "import tensorflow as tf\n",
    "print(tf.__version__)\n",
    "2.2.0-rc2\n",
    "# check out the documentation for other arguments\n",
    "tf.keras.utils.get_file('auto-mpg.data', url)\n",
    "Downloading data from https://raw.githubusercontent.com/lazyprogrammer/machine_learning_examples/master/tf2.0/auto-mpg.data\n",
    "32768/30286 [================================] - 0s 1us/step\n",
    "'/root/.keras/datasets/auto-mpg.data'\n",
    "!head /root/.keras/datasets/auto-mpg.data\n",
    "18.0   8   307.0      130.0      3504.      12.0   70  1\t\"chevrolet chevelle malibu\"\n",
    "15.0   8   350.0      165.0      3693.      11.5   70  1\t\"buick skylark 320\"\n",
    "18.0   8   318.0      150.0      3436.      11.0   70  1\t\"plymouth satellite\"\n",
    "16.0   8   304.0      150.0      3433.      12.0   70  1\t\"amc rebel sst\"\n",
    "17.0   8   302.0      140.0      3449.      10.5   70  1\t\"ford torino\"\n",
    "15.0   8   429.0      198.0      4341.      10.0   70  1\t\"ford galaxie 500\"\n",
    "14.0   8   454.0      220.0      4354.       9.0   70  1\t\"chevrolet impala\"\n",
    "14.0   8   440.0      215.0      4312.       8.5   70  1\t\"plymouth fury iii\"\n",
    "14.0   8   455.0      225.0      4425.      10.0   70  1\t\"pontiac catalina\"\n",
    "15.0   8   390.0      190.0      3850.       8.5   70  1\t\"amc ambassador dpl\"\n",
    "# unless you specify an alternative path, the data will go into /root/.keras/datasets/\n",
    "df = pd.read_csv('/root/.keras/datasets/auto-mpg.data', header=None, delim_whitespace=True)\n",
    "df.head()"
   ]
  },
  {
   "cell_type": "code",
   "execution_count": null,
   "id": "620ad8ff",
   "metadata": {},
   "outputs": [],
   "source": []
  },
  {
   "cell_type": "code",
   "execution_count": null,
   "id": "f0cafdf1",
   "metadata": {},
   "outputs": [],
   "source": []
  }
 ],
 "metadata": {
  "kernelspec": {
   "display_name": "Python 3 (ipykernel)",
   "language": "python",
   "name": "python3"
  },
  "language_info": {
   "codemirror_mode": {
    "name": "ipython",
    "version": 3
   },
   "file_extension": ".py",
   "mimetype": "text/x-python",
   "name": "python",
   "nbconvert_exporter": "python",
   "pygments_lexer": "ipython3",
   "version": "3.9.13"
  }
 },
 "nbformat": 4,
 "nbformat_minor": 5
}
